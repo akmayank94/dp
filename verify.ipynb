{
 "cells": [
  {
   "cell_type": "code",
   "execution_count": 17,
   "id": "6f995224",
   "metadata": {},
   "outputs": [],
   "source": [
    "import rsa"
   ]
  },
  {
   "cell_type": "code",
   "execution_count": 18,
   "id": "f3fc875b",
   "metadata": {},
   "outputs": [],
   "source": [
    "with open('samplepdf.pdf','rb') as f:\n",
    "    pdf=f.read()"
   ]
  },
  {
   "cell_type": "code",
   "execution_count": 20,
   "id": "2fdf0e0a",
   "metadata": {},
   "outputs": [],
   "source": [
    "with open('public_key_file.pem','rb') as puk:\n",
    "    public_key=rsa.PublicKey.load_pkcs1(puk.read())"
   ]
  },
  {
   "cell_type": "code",
   "execution_count": 21,
   "id": "d77ef0ae",
   "metadata": {},
   "outputs": [],
   "source": [
    "with open('signature_file','rb') as sf:\n",
    "    signature_file=sf.read()"
   ]
  },
  {
   "cell_type": "code",
   "execution_count": 22,
   "id": "9cc3a0ba",
   "metadata": {},
   "outputs": [
    {
     "name": "stdout",
     "output_type": "stream",
     "text": [
      "Verification failed! The signature does not match the document.\n"
     ]
    }
   ],
   "source": [
    "# verify_file=rsa.verify(pdf,signature_file,public_key)\n",
    "try:\n",
    "    verify_file = rsa.verify(pdf, signature_file, public_key)\n",
    "    print(\"Verification successful! Hash algorithm:\", verify_file)\n",
    "except rsa.VerificationError:\n",
    "    print(\"Verification failed! The signature does not match the document.\")"
   ]
  },
  {
   "cell_type": "code",
   "execution_count": 24,
   "id": "945af669",
   "metadata": {},
   "outputs": [
    {
     "data": {
      "text/plain": [
       "'SHA-256'"
      ]
     },
     "execution_count": 24,
     "metadata": {},
     "output_type": "execute_result"
    }
   ],
   "source": [
    "verify_file"
   ]
  },
  {
   "cell_type": "code",
   "execution_count": null,
   "id": "13184ea5",
   "metadata": {},
   "outputs": [],
   "source": []
  }
 ],
 "metadata": {
  "kernelspec": {
   "display_name": "Python 3",
   "language": "python",
   "name": "python3"
  },
  "language_info": {
   "codemirror_mode": {
    "name": "ipython",
    "version": 3
   },
   "file_extension": ".py",
   "mimetype": "text/x-python",
   "name": "python",
   "nbconvert_exporter": "python",
   "pygments_lexer": "ipython3",
   "version": "3.12.5"
  }
 },
 "nbformat": 4,
 "nbformat_minor": 5
}
